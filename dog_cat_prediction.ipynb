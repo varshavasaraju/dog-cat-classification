{
 "cells": [
  {
   "cell_type": "markdown",
   "id": "d1bc4963",
   "metadata": {},
   "source": [
    "# Importing Libraries"
   ]
  },
  {
   "cell_type": "code",
   "execution_count": 1,
   "id": "bf57b5a9",
   "metadata": {},
   "outputs": [],
   "source": [
    "import tensorflow as tf\n",
    "from keras.preprocessing.image import ImageDataGenerator\n",
    "from tensorflow.keras.preprocessing import image\n",
    "import numpy as np"
   ]
  },
  {
   "cell_type": "markdown",
   "id": "eaf54317",
   "metadata": {},
   "source": [
    "# Preprocessing Training Set"
   ]
  },
  {
   "cell_type": "code",
   "execution_count": 2,
   "id": "fb84a84c",
   "metadata": {},
   "outputs": [
    {
     "name": "stdout",
     "output_type": "stream",
     "text": [
      "Found 8000 images belonging to 2 classes.\n"
     ]
    }
   ],
   "source": [
    "train_gen_data = ImageDataGenerator(rescale=1. / 255,\n",
    "                                    shear_range=0.2,\n",
    "                                    zoom_range=0.2,\n",
    "                                    horizontal_flip=True)\n",
    "training_set = train_gen_data.flow_from_directory(r'C:\\Users\\HOME\\Desktop\\dog_and_cat\\training_set',\n",
    "                                                  target_size=(64, 64), batch_size=32, class_mode='binary')"
   ]
  },
  {
   "cell_type": "markdown",
   "id": "6c03ce97",
   "metadata": {},
   "source": [
    "# Preprocessing Test Set"
   ]
  },
  {
   "cell_type": "code",
   "execution_count": 3,
   "id": "dcdc059f",
   "metadata": {},
   "outputs": [
    {
     "name": "stdout",
     "output_type": "stream",
     "text": [
      "Found 2000 images belonging to 2 classes.\n"
     ]
    }
   ],
   "source": [
    "test_gen_data = ImageDataGenerator(rescale=1. / 255)\n",
    "test_set = test_gen_data.flow_from_directory(r'C:\\Users\\HOME\\Desktop\\dog_and_cat\\test_set', target_size=(64, 64),\n",
    "                                             batch_size=32, class_mode='binary')"
   ]
  },
  {
   "cell_type": "markdown",
   "id": "4b241174",
   "metadata": {},
   "source": [
    "# CNN"
   ]
  },
  {
   "cell_type": "markdown",
   "id": "a471235c",
   "metadata": {},
   "source": [
    "### Initialising CNN"
   ]
  },
  {
   "cell_type": "code",
   "execution_count": 4,
   "id": "56e374c7",
   "metadata": {},
   "outputs": [],
   "source": [
    "cnn = tf.keras.models.Sequential()"
   ]
  },
  {
   "cell_type": "markdown",
   "id": "a40807e0",
   "metadata": {},
   "source": [
    "### Convolutional"
   ]
  },
  {
   "cell_type": "code",
   "execution_count": 5,
   "id": "7b5aff17",
   "metadata": {},
   "outputs": [],
   "source": [
    "cnn.add(tf.keras.layers.Conv2D(filters=32, kernel_size=3, activation='relu', input_shape=[64, 64, 3]))"
   ]
  },
  {
   "cell_type": "markdown",
   "id": "96ddaa47",
   "metadata": {},
   "source": [
    "### Pooling"
   ]
  },
  {
   "cell_type": "code",
   "execution_count": 6,
   "id": "b5aaa994",
   "metadata": {},
   "outputs": [],
   "source": [
    "cnn.add(tf.keras.layers.MaxPool2D(pool_size= 2, strides= 2))"
   ]
  },
  {
   "cell_type": "markdown",
   "id": "bd3ff58a",
   "metadata": {},
   "source": [
    "### Second convolutional layer"
   ]
  },
  {
   "cell_type": "code",
   "execution_count": 7,
   "id": "060a1f3b",
   "metadata": {},
   "outputs": [],
   "source": [
    "cnn.add(tf.keras.layers.Conv2D(filters=32, kernel_size=3, activation='relu'))\n",
    "cnn.add(tf.keras.layers.MaxPool2D(pool_size= 2, strides= 2))"
   ]
  },
  {
   "cell_type": "markdown",
   "id": "3eb54c78",
   "metadata": {},
   "source": [
    "### Flattening"
   ]
  },
  {
   "cell_type": "code",
   "execution_count": 8,
   "id": "3dd162d8",
   "metadata": {},
   "outputs": [],
   "source": [
    "cnn.add(tf.keras.layers.Flatten())"
   ]
  },
  {
   "cell_type": "markdown",
   "id": "5adfe540",
   "metadata": {},
   "source": [
    "### Full Connection"
   ]
  },
  {
   "cell_type": "code",
   "execution_count": 9,
   "id": "1e54afb4",
   "metadata": {},
   "outputs": [],
   "source": [
    "cnn.add(tf.keras.layers.Dense(units= 128, activation= 'relu'))"
   ]
  },
  {
   "cell_type": "markdown",
   "id": "915ef07a",
   "metadata": {},
   "source": [
    "### Output Layer"
   ]
  },
  {
   "cell_type": "code",
   "execution_count": 10,
   "id": "d480cb20",
   "metadata": {},
   "outputs": [],
   "source": [
    "cnn.add(tf.keras.layers.Dense(units= 1, activation= 'sigmoid'))"
   ]
  },
  {
   "cell_type": "markdown",
   "id": "a47af02c",
   "metadata": {},
   "source": [
    "# Training CNN"
   ]
  },
  {
   "cell_type": "markdown",
   "id": "ad7b9d04",
   "metadata": {},
   "source": [
    "### Compiling CNN"
   ]
  },
  {
   "cell_type": "code",
   "execution_count": 11,
   "id": "5ad261fc",
   "metadata": {},
   "outputs": [],
   "source": [
    "cnn.compile(optimizer = 'adam', loss = 'binary_crossentropy', metrics = ['accuracy'])"
   ]
  },
  {
   "cell_type": "markdown",
   "id": "581cd4fb",
   "metadata": {},
   "source": [
    "### Traning set and Evaluting it on Test set"
   ]
  },
  {
   "cell_type": "code",
   "execution_count": 12,
   "id": "df575f28",
   "metadata": {},
   "outputs": [
    {
     "name": "stdout",
     "output_type": "stream",
     "text": [
      "Epoch 1/25\n",
      "250/250 [==============================] - 258s 1s/step - loss: 0.6839 - accuracy: 0.5591 - val_loss: 0.6434 - val_accuracy: 0.6375\n",
      "Epoch 2/25\n",
      "250/250 [==============================] - 63s 250ms/step - loss: 0.6260 - accuracy: 0.6574 - val_loss: 0.5775 - val_accuracy: 0.7165\n",
      "Epoch 3/25\n",
      "250/250 [==============================] - 71s 286ms/step - loss: 0.5590 - accuracy: 0.7138 - val_loss: 0.5685 - val_accuracy: 0.7120\n",
      "Epoch 4/25\n",
      "250/250 [==============================] - 73s 290ms/step - loss: 0.5257 - accuracy: 0.7399 - val_loss: 0.5124 - val_accuracy: 0.7560\n",
      "Epoch 5/25\n",
      "250/250 [==============================] - 75s 299ms/step - loss: 0.5002 - accuracy: 0.7584 - val_loss: 0.4955 - val_accuracy: 0.7695\n",
      "Epoch 6/25\n",
      "250/250 [==============================] - 76s 302ms/step - loss: 0.4797 - accuracy: 0.7680 - val_loss: 0.5579 - val_accuracy: 0.7275\n",
      "Epoch 7/25\n",
      "250/250 [==============================] - 72s 286ms/step - loss: 0.4610 - accuracy: 0.7840 - val_loss: 0.4650 - val_accuracy: 0.7915\n",
      "Epoch 8/25\n",
      "250/250 [==============================] - 69s 275ms/step - loss: 0.4357 - accuracy: 0.7921 - val_loss: 0.4908 - val_accuracy: 0.7765\n",
      "Epoch 9/25\n",
      "250/250 [==============================] - 70s 280ms/step - loss: 0.4247 - accuracy: 0.7954 - val_loss: 0.4586 - val_accuracy: 0.7920\n",
      "Epoch 10/25\n",
      "250/250 [==============================] - 71s 283ms/step - loss: 0.4032 - accuracy: 0.8148 - val_loss: 0.4728 - val_accuracy: 0.7925\n",
      "Epoch 11/25\n",
      "250/250 [==============================] - 71s 284ms/step - loss: 0.3875 - accuracy: 0.8253 - val_loss: 0.4899 - val_accuracy: 0.7850\n",
      "Epoch 12/25\n",
      "250/250 [==============================] - 72s 288ms/step - loss: 0.3815 - accuracy: 0.8259 - val_loss: 0.4403 - val_accuracy: 0.8040\n",
      "Epoch 13/25\n",
      "250/250 [==============================] - 72s 288ms/step - loss: 0.3623 - accuracy: 0.8367 - val_loss: 0.4691 - val_accuracy: 0.7890\n",
      "Epoch 14/25\n",
      "250/250 [==============================] - 72s 288ms/step - loss: 0.3432 - accuracy: 0.8491 - val_loss: 0.4816 - val_accuracy: 0.7930\n",
      "Epoch 15/25\n",
      "250/250 [==============================] - 71s 282ms/step - loss: 0.3342 - accuracy: 0.8521 - val_loss: 0.4725 - val_accuracy: 0.8050\n",
      "Epoch 16/25\n",
      "250/250 [==============================] - 69s 277ms/step - loss: 0.3109 - accuracy: 0.8634 - val_loss: 0.4731 - val_accuracy: 0.8005\n",
      "Epoch 17/25\n",
      "250/250 [==============================] - 70s 279ms/step - loss: 0.2976 - accuracy: 0.8716 - val_loss: 0.4738 - val_accuracy: 0.8080\n",
      "Epoch 18/25\n",
      "250/250 [==============================] - 72s 288ms/step - loss: 0.2675 - accuracy: 0.8869 - val_loss: 0.4912 - val_accuracy: 0.8005\n",
      "Epoch 19/25\n",
      "250/250 [==============================] - 73s 291ms/step - loss: 0.2620 - accuracy: 0.8879 - val_loss: 0.5066 - val_accuracy: 0.8020\n",
      "Epoch 20/25\n",
      "250/250 [==============================] - 70s 279ms/step - loss: 0.2533 - accuracy: 0.8980 - val_loss: 0.5230 - val_accuracy: 0.8035\n",
      "Epoch 21/25\n",
      "250/250 [==============================] - 73s 289ms/step - loss: 0.2318 - accuracy: 0.9029 - val_loss: 0.5281 - val_accuracy: 0.8040\n",
      "Epoch 22/25\n",
      "250/250 [==============================] - 74s 296ms/step - loss: 0.2168 - accuracy: 0.9140 - val_loss: 0.5502 - val_accuracy: 0.8050\n",
      "Epoch 23/25\n",
      "250/250 [==============================] - 73s 293ms/step - loss: 0.2102 - accuracy: 0.9146 - val_loss: 0.5865 - val_accuracy: 0.7875\n",
      "Epoch 24/25\n",
      "250/250 [==============================] - 73s 293ms/step - loss: 0.1879 - accuracy: 0.9250 - val_loss: 0.5772 - val_accuracy: 0.8150\n",
      "Epoch 25/25\n",
      "250/250 [==============================] - 73s 292ms/step - loss: 0.1800 - accuracy: 0.9291 - val_loss: 0.5848 - val_accuracy: 0.8025\n"
     ]
    },
    {
     "data": {
      "text/plain": [
       "<keras.callbacks.History at 0x238d8575c90>"
      ]
     },
     "execution_count": 12,
     "metadata": {},
     "output_type": "execute_result"
    }
   ],
   "source": [
    "cnn.fit(x = training_set, validation_data = test_set, epochs = 25)"
   ]
  },
  {
   "cell_type": "markdown",
   "id": "c516bf68",
   "metadata": {},
   "source": [
    "# Making Prediction"
   ]
  },
  {
   "cell_type": "code",
   "execution_count": 16,
   "id": "65ea4a55",
   "metadata": {},
   "outputs": [
    {
     "name": "stdout",
     "output_type": "stream",
     "text": [
      "1/1 [==============================] - 1s 709ms/step\n"
     ]
    }
   ],
   "source": [
    "test_image = image.load_img(r\"C:\\Users\\HOME\\Desktop\\dog_and_cat\\single_prediction\\cat_dog6.jpg\", target_size= (64, 64))\n",
    "test_image = image.img_to_array(test_image)\n",
    "test_image = np.expand_dims(test_image, axis= 0)\n",
    "result = cnn.predict(test_image)\n",
    "training_set.class_indices\n",
    "if result[0][0] == 1:\n",
    "    prediction = 'dog'\n",
    "else:\n",
    "    prediction = 'cat'\n",
    "    \n",
    "        "
   ]
  },
  {
   "cell_type": "code",
   "execution_count": 17,
   "id": "b51ffd47",
   "metadata": {},
   "outputs": [
    {
     "data": {
      "text/plain": [
       "'dog'"
      ]
     },
     "execution_count": 17,
     "metadata": {},
     "output_type": "execute_result"
    }
   ],
   "source": [
    "prediction\n"
   ]
  },
  {
   "cell_type": "code",
   "execution_count": null,
   "id": "86b172cb",
   "metadata": {},
   "outputs": [],
   "source": []
  }
 ],
 "metadata": {
  "kernelspec": {
   "display_name": "Python 3 (ipykernel)",
   "language": "python",
   "name": "python3"
  },
  "language_info": {
   "codemirror_mode": {
    "name": "ipython",
    "version": 3
   },
   "file_extension": ".py",
   "mimetype": "text/x-python",
   "name": "python",
   "nbconvert_exporter": "python",
   "pygments_lexer": "ipython3",
   "version": "3.11.1"
  }
 },
 "nbformat": 4,
 "nbformat_minor": 5
}
